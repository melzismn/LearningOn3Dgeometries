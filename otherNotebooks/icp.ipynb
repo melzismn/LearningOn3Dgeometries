{
  "nbformat": 4,
  "nbformat_minor": 0,
  "metadata": {
    "colab": {
      "name": "icp.ipynb",
      "provenance": [],
      "authorship_tag": "ABX9TyOJoMUj+uvkg1l7UVgY0XFb",
      "include_colab_link": true
    },
    "kernelspec": {
      "name": "python3",
      "display_name": "Python 3"
    }
  },
  "cells": [
    {
      "cell_type": "markdown",
      "metadata": {
        "id": "view-in-github",
        "colab_type": "text"
      },
      "source": [
        "<a href=\"https://colab.research.google.com/github/melzismn/Digital-Design-2020-2021/blob/master/icp.ipynb\" target=\"_parent\"><img src=\"https://colab.research.google.com/assets/colab-badge.svg\" alt=\"Open In Colab\"/></a>"
      ]
    },
    {
      "cell_type": "code",
      "metadata": {
        "id": "_PS4291mcFQC"
      },
      "source": [
        "# ONLY FOR COLAB\n",
        "# Not required in Binder\n",
        "\n",
        "!wget -c https://repo.anaconda.com/miniconda/Miniconda3-4.5.4-Linux-x86_64.sh\n",
        "!chmod +x Miniconda3-4.5.4-Linux-x86_64.sh\n",
        "!bash ./Miniconda3-4.5.4-Linux-x86_64.sh -b -f -p /usr/local\n",
        "\n",
        "!conda install -q -y --prefix /usr/local python=3.6 ujson\n",
        "\n",
        "import sys\n",
        "sys.path.append('/usr/local/lib/python3.6/site-packages')\n",
        "\n",
        "import ujson\n",
        "print(ujson.dumps({1:2}))\n",
        "\n",
        "!conda install -c conda-forge igl\n",
        "!conda install -c conda-forge meshplot"
      ],
      "execution_count": null,
      "outputs": []
    },
    {
      "cell_type": "markdown",
      "metadata": {
        "id": "Y29Q5SD3cNat"
      },
      "source": [
        "# Import necessary utils"
      ]
    },
    {
      "cell_type": "code",
      "metadata": {
        "id": "HCHTeDd3cKAY"
      },
      "source": [
        "!pip install --upgrade --force-reinstall Pillow\n",
        "\n",
        "import igl\n",
        "import scipy as sp\n",
        "import numpy as np\n",
        "from meshplot import plot, subplot, interact\n",
        "from scipy.sparse.linalg import eigsh\n",
        "from scipy.sparse import csr_matrix\n",
        "import os \n",
        "from sklearn.cluster import KMeans\n",
        "from pyflann import *\n",
        "import matplotlib.pyplot as plt\n",
        "import math"
      ],
      "execution_count": null,
      "outputs": []
    },
    {
      "cell_type": "markdown",
      "metadata": {
        "id": "rvHyenCMcZHO"
      },
      "source": [
        "# Run a first example of flann search\n",
        "In this exercise we will exploy the [FLANN Library](https://pypi.org/project/flann/) a Fast Library for Approximate Nearest Neighbors (FLANN)"
      ]
    },
    {
      "cell_type": "code",
      "metadata": {
        "id": "wqZkXTWg8wBq"
      },
      "source": [
        "# a first example\n",
        "dataset = np.random.rand(10000, 128)\n",
        "testset = np.random.rand(1000, 128)\n",
        "flann = FLANN()\n",
        "[result, dists] = flann.nn(dataset, testset, 1, algorithm=\"kmeans\", branching=32, iterations=7, checks=16)\n",
        "result.shape"
      ],
      "execution_count": null,
      "outputs": []
    },
    {
      "cell_type": "markdown",
      "metadata": {
        "id": "ktqkCM5REeMK"
      },
      "source": [
        "# Load shape and prepare the GT tranformation"
      ]
    },
    {
      "cell_type": "code",
      "metadata": {
        "id": "o4GYciAUEohv"
      },
      "source": [
        "# read mesh\n",
        "v, f = igl.read_triangle_mesh(os.path.join('.', \"data\", \"MooseOBJ.obj\"))\n",
        "v1 = v;\n",
        "#H = np.random.randn(3, 3)\n",
        "#Rot_gt, tmp = sp.linalg.qr(H)\n",
        "# Trasl_gt = np.random.randn(1, 3)\n",
        "alpha = math.pi*0.4\n",
        "Rot_gt =  np.array(([math.cos(alpha), math.sin(alpha), 0],[-math.sin(alpha), math.cos(alpha), 0],[0, 0, 1]))\n",
        "Trasl_gt = [2.5, 1.1, 4.1]\n",
        "v2 = np.transpose(np.matmul(Rot_gt,np.transpose(v))) + Trasl_gt\n",
        "\n",
        "# check that R_gt is a rotation.\n",
        "plt.matshow(np.matmul(Rot_gt.T,Rot_gt));\n",
        "plt.colorbar()\n",
        "plt.show()\n",
        "\n",
        "# plot v1 and v2\n",
        "#np.max(v)"
      ],
      "execution_count": null,
      "outputs": []
    },
    {
      "cell_type": "markdown",
      "metadata": {
        "id": "CI3Fw6LtGisZ"
      },
      "source": [
        "# implement ICP\n",
        "Following the slides from our this course we can implement the ICP between v1 and v2. You can also take a look at the [following paper](http://graphics.stanford.edu/~smr/ICP/comparison/eggert_comparison_mva97.pdf) (Section 3.1) for a more in-depth discussion of the computation."
      ]
    },
    {
      "cell_type": "code",
      "metadata": {
        "id": "UJX15w56G-5y"
      },
      "source": [
        "# initialize some variables\n",
        "Stilde = np.diag([1,1,-1]);\n",
        "X = v1;\n",
        "Y = v2;\n",
        "\n",
        "# plot intial\n",
        "fig = plt.figure()\n",
        "ax = fig.add_subplot(111, projection='3d')\n",
        "ax.scatter(X[:,0], X[:,1], X[:,2], marker='o')\n",
        "ax.scatter(Y[:,0], Y[:,1], Y[:,2], marker='^')\n",
        "\n",
        "muX = np.expand_dims(np.transpose(np.mean(X,0)),0)\n",
        "muY = np.expand_dims(np.transpose(np.mean(Y,0)),0)\n",
        "[idxs, dists] = flann.nn(Y, X, 1, algorithm=\"kmeans\", branching=32, iterations=7, checks=16)\n",
        "print(np.amax(dists))\n",
        "\n",
        "while np.amax(dists) > 1e-10:\n",
        "   C = np.matmul(np.transpose(Y[idxs,:] - muY),(X - muX))\n",
        "   [U, S, V] = np.linalg.svd(C, full_matrices=True)\n",
        "   Ropt = np.matmul(U,V)\n",
        "   if np.linalg.det(Ropt)<0:\n",
        "       Ropt = np.matmul(U,np.matmul(Stilde,V)) \n",
        "\n",
        "   Topt = np.transpose(np.transpose(muY) - np.matmul(Ropt,np.transpose(muX)))\n",
        "   \n",
        "   X = np.transpose(np.matmul(Ropt,np.transpose(X))) + Topt\n",
        "   [idxs, dists] = flann.nn(Y, X, 1, algorithm=\"kmeans\", branching=32, iterations=7, checks=16)\n",
        "   muX = np.expand_dims(np.transpose(np.mean(X,0)),0)\n",
        "   print(np.amax(dists))\n",
        "\n",
        "# plot final\n",
        "fig = plt.figure()\n",
        "ax = fig.add_subplot(111, projection='3d')\n",
        "ax.scatter(X[:,0], X[:,1], X[:,2], marker='o')\n",
        "ax.scatter(Y[:,0], Y[:,1], Y[:,2], marker='^')"
      ],
      "execution_count": null,
      "outputs": []
    }
  ]
}
