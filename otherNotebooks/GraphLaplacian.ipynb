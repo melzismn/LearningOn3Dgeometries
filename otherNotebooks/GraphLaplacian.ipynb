{
  "nbformat": 4,
  "nbformat_minor": 0,
  "metadata": {
    "colab": {
      "name": "GraphLaplacian.ipynb",
      "provenance": [],
      "collapsed_sections": [],
      "toc_visible": true,
      "include_colab_link": true
    },
    "kernelspec": {
      "name": "python3",
      "display_name": "Python 3"
    }
  },
  "cells": [
    {
      "cell_type": "markdown",
      "metadata": {
        "id": "view-in-github",
        "colab_type": "text"
      },
      "source": [
        "<a href=\"https://colab.research.google.com/github/melzismn/Digital-Design-2020-2021/blob/master/GraphLaplacian.ipynb\" target=\"_parent\"><img src=\"https://colab.research.google.com/assets/colab-badge.svg\" alt=\"Open In Colab\"/></a>"
      ]
    },
    {
      "cell_type": "code",
      "metadata": {
        "id": "Yf68bdFR3BL6"
      },
      "source": [
        "%matplotlib inline \n",
        "\n",
        "import numpy as np\n",
        "import networkx as nx\n",
        "import matplotlib.pyplot as plt\n",
        "import scipy.io as sio\n",
        "from sklearn.cluster import KMeans\n",
        "import cv2 "
      ],
      "execution_count": null,
      "outputs": []
    },
    {
      "cell_type": "markdown",
      "metadata": {
        "id": "5fRo5yg_FDJk"
      },
      "source": [
        "**1D GRAPH**\n",
        "---\n",
        "We will implement the 1D graph we saw in the slides.\n",
        "\n",
        "The tasks are:\n",
        "- Compute the Laplacian\n",
        "- Compute the eigenvectors\n",
        "- Visualize them\n",
        "- Define a function\n",
        "- Perform low-pass filtering with increasing number of basis\n"
      ]
    },
    {
      "cell_type": "code",
      "metadata": {
        "id": "GzugVXh3E6xE"
      },
      "source": [
        "# 1: build the graph\n",
        "n = 50\n",
        "\n",
        "# Constructing the adjacency matrix\n",
        "A = np.zeros((n, n))\n",
        "a = np.array([i for i in np.arange(1,n)]) \n",
        "A[np.arange(a.size),a] = 1\n",
        "\n",
        "# Assuring it is symmetryc\n",
        "A = np.logical_or(A, A.T).astype(np.int32)\n",
        "\n",
        "# It generates something like this\n",
        "# A = np.array([  [0,1,0,0,0],\n",
        "#                 [1,0,1,0,0],\n",
        "#                 [0,1,0,1,0],\n",
        "#                 [0,0,1,0,1],\n",
        "#                 [0,0,0,1,0]])"
      ],
      "execution_count": null,
      "outputs": []
    },
    {
      "cell_type": "code",
      "metadata": {
        "id": "VLR9wYxy_aq6"
      },
      "source": [
        "# 2: Compute the Laplacian\n",
        "# Vertex degree\n",
        "D = np.sum(A, axis=0)\n",
        "L =   np.diag(D) - A\n"
      ],
      "execution_count": null,
      "outputs": []
    },
    {
      "cell_type": "code",
      "metadata": {
        "id": "RJ91lA95GRuV"
      },
      "source": [
        "# 3: Compute the eigenvectors\n",
        "a,b = np.linalg.eigh(L)\n"
      ],
      "execution_count": null,
      "outputs": []
    },
    {
      "cell_type": "code",
      "metadata": {
        "id": "nEae_uvEHBEf"
      },
      "source": [
        "# 4: Plot the graph with one eigenfunction\n",
        "eig_n = 2\n",
        "\n",
        "G = nx.from_numpy_matrix(A)\n",
        "\n",
        "pos = {i : np.asarray([i,0]) for i in np.arange(0,n)}\n",
        "nx.draw(G,pos, node_color=np.ones(n) , node_size=40)\n",
        "nx.draw(G,pos, node_color=b[:,eig_n] , node_size=40, cmap=plt.cm.bwr, vmin=np.min(b), vmax=np.max(b))\n",
        "\n",
        "plt.show()"
      ],
      "execution_count": null,
      "outputs": []
    },
    {
      "cell_type": "code",
      "metadata": {
        "id": "WKt4E6BfPH4v"
      },
      "source": [
        "# 4: Low pass filtering\n",
        "\n",
        "# Define a random function\n",
        "coeffs = np.random.rand(b.shape[0])\n",
        "f = np.matmul(b,coeffs)\n",
        "\n",
        "nx.draw(G,pos, node_color=f, node_size=40, cmap=plt.cm.bwr, vmin=np.min(b), vmax=np.max(b))\n",
        "plt.show()\n"
      ],
      "execution_count": null,
      "outputs": []
    },
    {
      "cell_type": "code",
      "metadata": {
        "id": "YQfCeiNNPUkh"
      },
      "source": [
        "# Truncating the basis\n",
        "b_trim = b[:,0:30]\n",
        "\n",
        "# synthesis and analysis with truncated basis\n",
        "f_recon = np.matmul(b_trim, np.matmul(b_trim.T, f))\n",
        "\n",
        "# Computing the reconstruction error\n",
        "err = np.sqrt(np.sum(np.square(f_recon - f)))\n",
        "\n",
        "\n",
        "nx.draw(G,pos, node_color=f, node_size=40, cmap=plt.cm.bwr, vmin=np.min(b), vmax=np.max(b))\n",
        "plt.show()\n",
        "\n",
        "\n",
        "nx.draw(G,pos, node_color=f_recon, node_size=40, cmap=plt.cm.bwr, vmin=np.min(b), vmax=np.max(b))\n",
        "plt.title('Error: ' + \"{:10.3f}\".format(err))\n",
        "plt.show()\n"
      ],
      "execution_count": null,
      "outputs": []
    },
    {
      "cell_type": "markdown",
      "metadata": {
        "id": "7g9JgT7cI0-8"
      },
      "source": [
        "# **Disconnected Components**\n",
        "---\n",
        "Here we analyze the behavior of Laplacian and eigenfunction when the graph is disconnected.\n",
        "\n",
        "The tasks are:\n",
        "- Compute the Laplacian\n",
        "- Compute the eigenfunction of the Laplacian\n",
        "- Visualize the Laplacian\n",
        "- Visualize the Eigenfunctions and the algebraic multiplicity of the 0 eigenvalue\n"
      ]
    },
    {
      "cell_type": "code",
      "metadata": {
        "id": "O9BfTqkeI0eY"
      },
      "source": [
        "# 1: build the graph\n",
        "\n",
        "s = np.asarray([1, 1, 2, 6, 6, 6, 6, 7, 7, 7, 8, 8, 9, 5])-1\n",
        "t = np.asarray([2, 3, 3, 7, 8, 9, 10, 8, 9, 10, 9, 10, 10, 4])-1\n",
        "\n",
        "A = np.zeros((10,10))\n",
        "A[s,t]=1\n",
        "A = np.logical_or(A, A.T).astype(np.int32)\n",
        "\n",
        "G = nx.from_numpy_matrix(A)\n",
        "nx.draw(G, node_size=100)\n",
        "plt.show()\n"
      ],
      "execution_count": null,
      "outputs": []
    },
    {
      "cell_type": "code",
      "metadata": {
        "id": "re8_q-YHJm9t"
      },
      "source": [
        "# 2: Compute the Laplacian\n",
        "D = np.sum(A, axis=0)\n",
        "L = np.diag(D) - A"
      ],
      "execution_count": null,
      "outputs": []
    },
    {
      "cell_type": "code",
      "metadata": {
        "id": "-ew0SW4_Jr9z"
      },
      "source": [
        "# 3: compute the eigenfunction and eigenvalues\n",
        "a,b = np.linalg.eigh(L)\n",
        "\n",
        "print(a)"
      ],
      "execution_count": null,
      "outputs": []
    },
    {
      "cell_type": "code",
      "metadata": {
        "id": "fyIGVi3nJ-TM"
      },
      "source": [
        "# 4: Show the laplacian\n",
        "plt.imshow(L)\n",
        "plt.colorbar()\n",
        "plt.show()"
      ],
      "execution_count": null,
      "outputs": []
    },
    {
      "cell_type": "code",
      "metadata": {
        "id": "kSRj4dEmKNLP"
      },
      "source": [
        "# 5: plot eigenfunctions\n",
        "nx.draw(G, node_color = b[:,0] , node_size=100, cmap=plt.cm.bwr, vmin=np.min(b), vmax=np.max(b))\n",
        "plt.show()"
      ],
      "execution_count": null,
      "outputs": []
    },
    {
      "cell_type": "markdown",
      "metadata": {
        "id": "mkjfMEg7Li6M"
      },
      "source": [
        "# Spectral clustering\n",
        "\n",
        "Here we use the spectral embedding to cluster the nodes of a graph.\n",
        "\n",
        "The tasks are:\n",
        "- Compute the Laplacian\n",
        "- Compute the eigendecomposition of the Laplacian\n",
        "- Use KMeans to cluster the graph\n",
        "- Draw the "
      ]
    },
    {
      "cell_type": "code",
      "metadata": {
        "id": "oCKSobp5KXhM"
      },
      "source": [
        "np.random.seed(10)\n",
        "\n",
        "# 1: Build graph\n",
        "s = np.asarray([1, 1,  2, 2, 3, 5, 5, 5, 6, 7, 9, 9, 9, 10, 10, 11, 1, 2, 3, 7, 1])-1;\n",
        "t = np.asarray([2, 3,  3, 4, 4, 6, 7, 8, 7, 8, 10, 11, 12, 11, 12, 12, 5, 6, 12, 11, 4])-1;\n",
        "n = np.max((np.max(s),np.max(t)))+1\n",
        "labels={i: str(i) for i in np.arange(n)}\n",
        "\n",
        "A = np.zeros((n,n))\n",
        "A[s,t]=1\n",
        "A = np.logical_or(A, A.T).astype(np.int32)\n",
        "G = nx.from_numpy_matrix(A)\n",
        "nx.draw(G, labels = labels, node_size=400, font_size=16)\n",
        "plt.show()\n",
        "\n",
        "# 2: Compute Laplacian\n",
        "D = np.sum(A, axis=0)\n",
        "L =   np.diag(D) - A\n",
        "a,b = np.linalg.eigh(L)\n",
        "\n",
        "# 3: Visualize eigenvalues\n",
        "plt.plot(a)\n",
        "plt.show()\n"
      ],
      "execution_count": null,
      "outputs": []
    },
    {
      "cell_type": "code",
      "metadata": {
        "id": "ad5ujzUnMVoW"
      },
      "source": [
        "# 4: Defininig the number of clusters and using KMeans\n",
        "\n",
        "n_c = 3\n",
        "kmeans = KMeans(n_clusters=n_c, random_state=1).fit(b[:,1:n_c])\n",
        "\n",
        "#5 : Visualize graph\n",
        "nx.draw(G, node_color=kmeans.labels_ , labels = labels, node_size=400, cmap=plt.cm.cool,vmin=np.min(kmeans.labels_), vmax=np.max(kmeans.labels_))\n",
        "plt.show()\n",
        "\n",
        "#6 : Visualize spectral embedding (first two eigenvectors) with labels\n",
        "plt.scatter(b[:,1], b[:,2],c=kmeans.labels_,cmap=plt.cm.cool,vmin=np.min(kmeans.labels_), vmax=np.max(kmeans.labels_))\n",
        "\n",
        "for x_pos, y_pos, label in zip(b[:,1], b[:,2], labels):\n",
        "    plt.annotate(label,             # The label for this point\n",
        "                xy=(x_pos, y_pos), # Position of the corresponding point\n",
        "                xytext=(7, 0),     # Offset text by 7 points to the right\n",
        "                textcoords='offset points', # tell it to use offset points\n",
        "                ha='left',         # Horizontally aligned to the left\n",
        "                va='center')       # Vertical alignment is centered\n",
        "plt.show()"
      ],
      "execution_count": null,
      "outputs": []
    }
  ]
}
